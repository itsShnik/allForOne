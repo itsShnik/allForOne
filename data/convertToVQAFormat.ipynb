{
 "cells": [
  {
   "cell_type": "code",
   "execution_count": 20,
   "metadata": {},
   "outputs": [],
   "source": [
    "import pandas as pd\n",
    "import numpy as np\n",
    "import json\n",
    "import copy"
   ]
  },
  {
   "cell_type": "code",
   "execution_count": 5,
   "metadata": {},
   "outputs": [],
   "source": [
    "vqa_train_ques = json.load(open('vqa/raw/v2_OpenEnded_mscoco_train2014_questions.json', 'r'))\n",
    "vqa_val_ques = json.load(open('vqa/raw/v2_OpenEnded_mscoco_val2014_questions.json', 'r'))\n",
    "vqa_train_anno = json.load(open('vqa/raw/v2_mscoco_train2014_annotations.json', 'r'))\n",
    "vqa_val_anno = json.load(open('vqa/raw/v2_mscoco_val2014_annotations.json', 'r'))"
   ]
  },
  {
   "cell_type": "code",
   "execution_count": 6,
   "metadata": {},
   "outputs": [
    {
     "name": "stdout",
     "output_type": "stream",
     "text": [
      "<class 'dict'>\n",
      "<class 'dict'>\n"
     ]
    }
   ],
   "source": [
    "print(type(vqa_train_ques))\n",
    "print(type(vqa_train_anno))"
   ]
  },
  {
   "cell_type": "code",
   "execution_count": 7,
   "metadata": {},
   "outputs": [
    {
     "name": "stdout",
     "output_type": "stream",
     "text": [
      "{'image_id': 458752, 'question': 'What is this photo taken looking through?', 'question_id': 458752000}\n",
      "{'question_type': 'what is this', 'multiple_choice_answer': 'net', 'answers': [{'answer': 'net', 'answer_confidence': 'maybe', 'answer_id': 1}, {'answer': 'net', 'answer_confidence': 'yes', 'answer_id': 2}, {'answer': 'net', 'answer_confidence': 'yes', 'answer_id': 3}, {'answer': 'netting', 'answer_confidence': 'yes', 'answer_id': 4}, {'answer': 'net', 'answer_confidence': 'yes', 'answer_id': 5}, {'answer': 'net', 'answer_confidence': 'yes', 'answer_id': 6}, {'answer': 'mesh', 'answer_confidence': 'maybe', 'answer_id': 7}, {'answer': 'net', 'answer_confidence': 'yes', 'answer_id': 8}, {'answer': 'net', 'answer_confidence': 'yes', 'answer_id': 9}, {'answer': 'net', 'answer_confidence': 'yes', 'answer_id': 10}], 'image_id': 458752, 'answer_type': 'other', 'question_id': 458752000}\n"
     ]
    }
   ],
   "source": [
    "# check a sample from train questions and annotations\n",
    "print(vqa_train_ques['questions'][0])\n",
    "print(vqa_train_anno['annotations'][0])"
   ]
  },
  {
   "cell_type": "code",
   "execution_count": 13,
   "metadata": {},
   "outputs": [
    {
     "data": {
      "text/html": [
       "<div>\n",
       "<style scoped>\n",
       "    .dataframe tbody tr th:only-of-type {\n",
       "        vertical-align: middle;\n",
       "    }\n",
       "\n",
       "    .dataframe tbody tr th {\n",
       "        vertical-align: top;\n",
       "    }\n",
       "\n",
       "    .dataframe thead th {\n",
       "        text-align: right;\n",
       "    }\n",
       "</style>\n",
       "<table border=\"1\" class=\"dataframe\">\n",
       "  <thead>\n",
       "    <tr style=\"text-align: right;\">\n",
       "      <th></th>\n",
       "      <th>review</th>\n",
       "      <th>sentiment</th>\n",
       "    </tr>\n",
       "  </thead>\n",
       "  <tbody>\n",
       "    <tr>\n",
       "      <th>0</th>\n",
       "      <td>One of the other reviewers has mentioned that ...</td>\n",
       "      <td>positive</td>\n",
       "    </tr>\n",
       "    <tr>\n",
       "      <th>1</th>\n",
       "      <td>A wonderful little production. The filming tec...</td>\n",
       "      <td>positive</td>\n",
       "    </tr>\n",
       "    <tr>\n",
       "      <th>2</th>\n",
       "      <td>I thought this was a wonderful way to spend ti...</td>\n",
       "      <td>positive</td>\n",
       "    </tr>\n",
       "    <tr>\n",
       "      <th>3</th>\n",
       "      <td>Basically there's a family where a little boy ...</td>\n",
       "      <td>negative</td>\n",
       "    </tr>\n",
       "    <tr>\n",
       "      <th>4</th>\n",
       "      <td>Petter Mattei's \"Love in the Time of Money\" is...</td>\n",
       "      <td>positive</td>\n",
       "    </tr>\n",
       "  </tbody>\n",
       "</table>\n",
       "</div>"
      ],
      "text/plain": [
       "                                              review sentiment\n",
       "0  One of the other reviewers has mentioned that ...  positive\n",
       "1  A wonderful little production. The filming tec...  positive\n",
       "2  I thought this was a wonderful way to spend ti...  positive\n",
       "3  Basically there's a family where a little boy ...  negative\n",
       "4  Petter Mattei's \"Love in the Time of Money\" is...  positive"
      ]
     },
     "execution_count": 13,
     "metadata": {},
     "output_type": "execute_result"
    }
   ],
   "source": [
    "# open the imdb dataset file\n",
    "imdb_df = pd.read_csv('imdb_data.csv')\n",
    "\n",
    "# print the head\n",
    "imdb_df.head()\n"
   ]
  },
  {
   "cell_type": "code",
   "execution_count": 17,
   "metadata": {},
   "outputs": [],
   "source": [
    "# convert to dictionary\n",
    "imdb_review_list = imdb_df['review'].tolist()\n",
    "imdb_sent_list = imdb_df['sentiment'].tolist()\n",
    "imdb_dic = dict(zip(imdb_review_list, imdb_sent_list))"
   ]
  },
  {
   "cell_type": "code",
   "execution_count": 19,
   "metadata": {},
   "outputs": [],
   "source": [
    "imdb_train_review = imdb_review_list[:39999]\n",
    "imdb_test_review = imdb_review_list[40000:]\n",
    "imdb_train_sent = imdb_sent_list[:39999]\n",
    "imdb_test_sent = imdb_sent_list[40000:]"
   ]
  },
  {
   "cell_type": "code",
   "execution_count": 21,
   "metadata": {},
   "outputs": [],
   "source": [
    "imdb_vqa_train_questions = copy.deepcopy(vqa_train_ques)\n",
    "imdb_vqa_val_questions = copy.deepcopy(vqa_train_ques)\n",
    "\n",
    "# imdb_vqa_train_questions = copy.deepcopy(vqa_train_ques)\n",
    "# imdb_vqa_train_questions = copy.deepcopy(vqa_train_ques)"
   ]
  },
  {
   "cell_type": "code",
   "execution_count": 24,
   "metadata": {},
   "outputs": [
    {
     "data": {
      "text/plain": [
       "{'image_id': 0,\n",
       " 'question': \"One of the other reviewers has mentioned that after watching just 1 Oz episode you'll be hooked. They are right, as this is exactly what happened with me.The first thing that struck me about Oz was its brutality and unflinching scenes of violence, which set in right from the word GO. Trust me, this is not a show for the faint hearted or timid. This show pulls no punches with regards to drugs, sex or violence. Its is hardcore, in the classic use of the word.It is called OZ as that is the nickname given to the Oswald Maximum Security State Penitentary. It focuses mainly on Emerald City, an experimental section of the prison where all the cells have glass fronts and face inwards, so privacy is not high on the agenda. Em City is home to many..Aryans, Muslims, gangstas, Latinos, Christians, Italians, Irish and more....so scuffles, death stares, dodgy dealings and shady agreements are never far away.I would say the main appeal of the show is due to the fact that it goes where other shows wouldn't dare. Forget pretty pictures painted for mainstream audiences, forget charm, forget romance...OZ doesn't mess around. The first episode I ever saw struck me as so nasty it was surreal, I couldn't say I was ready for it, but as I watched more, I developed a taste for Oz, and got accustomed to the high levels of graphic violence. Not just violence, but injustice (crooked guards who'll be sold out for a nickel, inmates who'll kill on order and get away with it, well mannered, middle class inmates being turned into prison bitches due to their lack of street skills or prison experience) Watching Oz, you may become comfortable with what is uncomfortable viewing....thats if you can get in touch with your darker side.\",\n",
       " 'question_id': 1000000000001}"
      ]
     },
     "execution_count": 24,
     "metadata": {},
     "output_type": "execute_result"
    }
   ],
   "source": [
    "imdb_train_review_list_dict = [{'image_id': 0,\n",
    "                         'question': imdb_train_review[i],\n",
    "                         'question_id': 1000000000000 + i + 1} for i in range(len(imdb_train_review))]\n",
    "imdb_val_review_list_dict = [{'image_id': 0,\n",
    "                         'question': imdb_test_review[i],\n",
    "                         'question_id': 2000000000000 + i + 1} for i in range(len(imdb_test_review))]\n",
    "\n",
    "imdb_train_review_list_dict[0]"
   ]
  },
  {
   "cell_type": "code",
   "execution_count": 25,
   "metadata": {},
   "outputs": [
    {
     "data": {
      "text/plain": [
       "{'image_id': 0,\n",
       " 'question': \"One of the other reviewers has mentioned that after watching just 1 Oz episode you'll be hooked. They are right, as this is exactly what happened with me.The first thing that struck me about Oz was its brutality and unflinching scenes of violence, which set in right from the word GO. Trust me, this is not a show for the faint hearted or timid. This show pulls no punches with regards to drugs, sex or violence. Its is hardcore, in the classic use of the word.It is called OZ as that is the nickname given to the Oswald Maximum Security State Penitentary. It focuses mainly on Emerald City, an experimental section of the prison where all the cells have glass fronts and face inwards, so privacy is not high on the agenda. Em City is home to many..Aryans, Muslims, gangstas, Latinos, Christians, Italians, Irish and more....so scuffles, death stares, dodgy dealings and shady agreements are never far away.I would say the main appeal of the show is due to the fact that it goes where other shows wouldn't dare. Forget pretty pictures painted for mainstream audiences, forget charm, forget romance...OZ doesn't mess around. The first episode I ever saw struck me as so nasty it was surreal, I couldn't say I was ready for it, but as I watched more, I developed a taste for Oz, and got accustomed to the high levels of graphic violence. Not just violence, but injustice (crooked guards who'll be sold out for a nickel, inmates who'll kill on order and get away with it, well mannered, middle class inmates being turned into prison bitches due to their lack of street skills or prison experience) Watching Oz, you may become comfortable with what is uncomfortable viewing....thats if you can get in touch with your darker side.\",\n",
       " 'question_id': 1000000000001}"
      ]
     },
     "execution_count": 25,
     "metadata": {},
     "output_type": "execute_result"
    }
   ],
   "source": [
    "imdb_vqa_train_questions['questions'] = imdb_train_review_list_dict\n",
    "imdb_vqa_val_questions['questions'] = imdb_val_review_list_dict\n",
    "\n",
    "imdb_vqa_train_questions['questions'][0]"
   ]
  },
  {
   "cell_type": "code",
   "execution_count": 26,
   "metadata": {},
   "outputs": [],
   "source": [
    "imdb_vqa_train_annotations = copy.deepcopy(vqa_train_anno)\n",
    "imdb_vqa_val_annotations = copy.deepcopy(vqa_train_anno)"
   ]
  },
  {
   "cell_type": "code",
   "execution_count": 29,
   "metadata": {},
   "outputs": [
    {
     "data": {
      "text/plain": [
       "{'question_type': 'sentiment',\n",
       " 'multiple_choice_answer': 'positive',\n",
       " 'answers': [{'answer': 'positive',\n",
       "   'answer_confidence': 'yes',\n",
       "   'answer_id': 1},\n",
       "  {'answer': 'positive', 'answer_confidence': 'yes', 'answer_id': 2},\n",
       "  {'answer': 'positive', 'answer_confidence': 'yes', 'answer_id': 3},\n",
       "  {'answer': 'positive', 'answer_confidence': 'yes', 'answer_id': 4},\n",
       "  {'answer': 'positive', 'answer_confidence': 'yes', 'answer_id': 5},\n",
       "  {'answer': 'positive', 'answer_confidence': 'yes', 'answer_id': 6},\n",
       "  {'answer': 'positive', 'answer_confidence': 'yes', 'answer_id': 7},\n",
       "  {'answer': 'positive', 'answer_confidence': 'yes', 'answer_id': 8},\n",
       "  {'answer': 'positive', 'answer_confidence': 'yes', 'answer_id': 9},\n",
       "  {'answer': 'positive', 'answer_confidence': 'yes', 'answer_id': 10}],\n",
       " 'image_id': 0,\n",
       " 'answer_type': 'sentiment',\n",
       " 'question_id': 1000000000001}"
      ]
     },
     "execution_count": 29,
     "metadata": {},
     "output_type": "execute_result"
    }
   ],
   "source": [
    "imdb_train_sentiment_list_dict = [{'question_type':'sentiment', 'multiple_choice_answer':imdb_train_sent[i],\n",
    "                                  'answers':[{'answer':imdb_train_sent[i],\n",
    "                                             'answer_confidence':'yes',\n",
    "                                             'answer_id': j} for j in range(1,11)],\n",
    "                                  'image_id': 0, 'answer_type': 'sentiment', 'question_id': 1000000000000 + i + 1} for i in range(len(imdb_train_sent))]\n",
    "imdb_val_sentiment_list_dict = [{'question_type':'sentiment', 'multiple_choice_answer':imdb_test_sent[i],\n",
    "                                  'answers':[{'answer':imdb_test_sent[i],\n",
    "                                             'answer_confidence':'yes',\n",
    "                                             'answer_id': j} for j in range(1,11)],\n",
    "                                  'image_id': 0, 'answer_type': 'sentiment', 'question_id': 2000000000000 + i + 1} for i in range(len(imdb_test_sent))]\n",
    "\n",
    "imdb_train_sentiment_list_dict[0]"
   ]
  },
  {
   "cell_type": "code",
   "execution_count": 30,
   "metadata": {},
   "outputs": [],
   "source": [
    "imdb_vqa_train_annotations['annotations'] = imdb_train_sentiment_list_dict\n",
    "imdb_vqa_val_annotations['annotations'] = imdb_val_sentiment_list_dict"
   ]
  },
  {
   "cell_type": "code",
   "execution_count": 34,
   "metadata": {},
   "outputs": [],
   "source": [
    "# also make the combined imdb+vqa dataset\n",
    "imdb_vqa_combined_train_questions = copy.deepcopy(vqa_train_ques)\n",
    "imdb_vqa_combined_train_annotations = copy.deepcopy(vqa_train_anno)\n",
    "imdb_vqa_combined_val_questions = copy.deepcopy(vqa_val_ques)\n",
    "imdb_vqa_combined_val_annotations = copy.deepcopy(vqa_val_anno)\n",
    "\n",
    "imdb_vqa_combined_train_questions['questions'].extend(imdb_train_review_list_dict)\n",
    "imdb_vqa_combined_train_annotations['annotations'].extend(imdb_train_sentiment_list_dict)\n",
    "imdb_vqa_combined_val_questions['questions'].extend(imdb_val_review_list_dict)\n",
    "imdb_vqa_combined_val_annotations['annotations'].extend(imdb_val_sentiment_list_dict)"
   ]
  },
  {
   "cell_type": "code",
   "execution_count": 36,
   "metadata": {},
   "outputs": [],
   "source": [
    "# dump imdb dataset into jsons\n",
    "json.dump(imdb_vqa_train_questions, open('imdb/raw/imdb_vqa_train_questions.json', 'w'))\n",
    "json.dump(imdb_vqa_train_annotations, open('imdb/raw/imdb_vqa_train_annotations.json', 'w'))\n",
    "json.dump(imdb_vqa_val_questions, open('imdb/raw/imdb_vqa_val_questions.json', 'w'))\n",
    "json.dump(imdb_vqa_val_annotations, open('imdb/raw/imdb_vqa_val_annotations.json', 'w'))"
   ]
  },
  {
   "cell_type": "code",
   "execution_count": 37,
   "metadata": {},
   "outputs": [],
   "source": [
    "# dump imdb dataset into jsons\n",
    "json.dump(imdb_vqa_combined_train_questions, open('combined/raw/imdb_vqa_combined_train_questions.json', 'w'))\n",
    "json.dump(imdb_vqa_combined_train_annotations, open('combined/raw/imdb_vqa_combined_train_annotations.json', 'w'))\n",
    "json.dump(imdb_vqa_combined_val_questions, open('combined/raw/imdb_vqa_val_combined_questions.json', 'w'))\n",
    "json.dump(imdb_vqa_combined_val_annotations, open('combined/raw/imdb_vqa_combined_val_annotations.json', 'w'))"
   ]
  },
  {
   "cell_type": "code",
   "execution_count": null,
   "metadata": {},
   "outputs": [],
   "source": []
  }
 ],
 "metadata": {
  "kernelspec": {
   "display_name": "Python 3",
   "language": "python",
   "name": "python3"
  },
  "language_info": {
   "codemirror_mode": {
    "name": "ipython",
    "version": 3
   },
   "file_extension": ".py",
   "mimetype": "text/x-python",
   "name": "python",
   "nbconvert_exporter": "python",
   "pygments_lexer": "ipython3",
   "version": "3.6.8"
  }
 },
 "nbformat": 4,
 "nbformat_minor": 4
}
